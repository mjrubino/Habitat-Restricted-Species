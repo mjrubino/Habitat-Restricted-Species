{
 "cells": [
  {
   "cell_type": "markdown",
   "metadata": {},
   "source": [
    "# Table of contents\n",
    "1. [Purpose](#purpose)\n",
    "2. [Inputs](#inputs)\n",
    "    * [2.1 GAP Species Range Maps](#subinput1)\n",
    "    * [2.2 GAP Species Habitat Maps](#subinput2)\n",
    "3. [Outputs](#outputs)\n",
    "4. [Constraints](#constraints)\n",
    "5. [Dependencies](#dependencies)\n",
    "    * [5.1 Code Language](#codelanguage)\n",
    "      * [5.1.1 package requirements](#packagerequirements)\n",
    "\n",
    "6. [Code](#code)\n",
    "    * [6.1 GAP Analytic Database Connection Functions](#code61)\n",
    "    * [6.2 Connect to ScienceBase](#code62)\n",
    "    * [6.3 Connect to GAP Analytic Database](#code63)\n",
    "7. [Tests](#tests)\n",
    "8. [Provenance](#provenance)\n",
    "9. [Citations](#citations)\n",
    "---\n",
    "\n",
    "# GAP Habitat Restricted Species and their Protection Status\n",
    "<br/>\n",
    "\n",
    "## Purpose <a name=\"purpose\"></a>\n",
    "The U.S. Geological Survey Gap Analysis Project (GAP) created range and habitat maps for 1590 terrestrial vertebrates that are known to occur within the conterminous United States (CONUS) including 219 sub-species (McKerrow et al. 2018). GAP species maps individually or in any variety of species groupings have a number of uses to aid scientists, managers and policy makers in biodiversity research and planning. Comparing the extent of occurrence and habitat for amphibians, birds, mammals, and reptiles throughout CONUS can provide quantifiable insights into attributes that may highlight conservation concerns previously overlooked in assessments of species’ geographies.\n",
    "\n",
    "An [analysis notebook](https://github.com/mjrubino/Range-vs-Habitat/blob/master/Range-vs-Habitat.ipynb) created to compare areal extents of GAP range and habitat maps generates a scatterplot and a CSV file illustrating the proportion of habitat within the range of each GAP species' maps.  \n",
    "\n",
    "[Range vs. Habitat Scatterplot](https://github.com/mjrubino/Range-vs-Habitat/blob/master/Range-v-Habitat-Scatterplot.png)\n",
    "\n",
    "Examining the scatterplot expectedly reveals when range size increases, habitat area increases, with the relationship accounting for approximately 82% of variability between the two. However, 18% cannot be explained merely by increasing area thereby highlighting differences and possible conservation decisions to be made using either habitat or range-based maps. Of special conservation interest may be species in the lower middle portion of the graph below the fitted line where range size is relatively large but habitat area is relatively small. Species with relatively small habitat areas are potentially “habitat restricted” and could be vulnerable to habitat loss across their range extent.\n",
    "\n",
    "We were interested in exploring which species would be considered the most habitat restricted relative to their range size along with assessing their conservation status. We began by calculating the proportion of habitat within range by dividing total amount of predicted habitat area by range area. We then selected species whose percentage of habitat in range constitute the lowest five percent of values (lowest 5th percentile = 1.79%). A total of 82 species had percent habitat in range less than or equal to 1.79%. Of these 82 species 19 or 23.2% (including 7 amphibians, 2 birds, 1 mammal, and 9 reptiles) are considered vulnerable species using the [International Union for Conservation of Nature’s (IUCN)](https://www.iucnredlist.org/) threatened categories.\n",
    "\n",
    "## Inputs <a name=\"inputs\"></a>\n",
    "The code in this notebook examines the relationship between species' range and habitat maps developed by the U.S. Geological Survey Gap Analysis Project (McKerrow et al. 2018). All 1719 vertebrate species taxa (species and sub-species) in four groups (amphibians, birds, mammals, and reptiles) considered present in the conterminous US at some time in their life history are included in the analyses. The input processing species list could be altered to conduct a species subset analysis.\n",
    "    \n",
    "It utilizes individual species range and habitat data available on the [USGS ScienceBase data catalog](https://www.sciencebase.gov/catalog/) as attached files in each species' child item. These files are available programmatically using the Python language with the USGS developed [sciencebasepy API package](https://github.com/usgs/sciencebasepy).\n",
    "\n",
    "* **U.S. Geological Survey Gap Analysis Project (GAP) Species Range Maps** <a name=\"subinput1\"></a>  \n",
    "Individual GAP species' range maps are available on ScienceBase as zip archive files containing Geographic Information System (GIS) vector data in shapefile format. The dataset is described here: https://www.sciencebase.gov/catalog/item/5951527de4b062508e3b1e79.\n",
    "\n",
    "* **U.S. Geological Survey Gap Analysis Project (GAP) Species Habitat Maps** <a name=\"subinput2\"></a>  \n",
    "Individual GAP species' habitat maps are available on ScienceBase as zip archive files containing GIS raster data in TIF format. The dataset is described here: https://www.sciencebase.gov/catalog/item/527d0a83e4b0850ea0518326.\n",
    "\n",
    "It also utilizes an SQL server database that was assembled by intersecting numerous spatial data layers including the [Protected Areas Database of the US](https://www.sciencebase.gov/catalog/item/5b030c7ae4b0da30c1c1d6de) (PAD-US), species habitat maps, boundary layers such as states, counties, LCCs, ecoregions, etc. At the time this workflow was developed, the database was available on a local server. Hence, all code references a local instance of this database. This code is only replicable given access to a local instance of the database.\n",
    "\n",
    "* **U.S. Geological Survey Gap Analysis Project (GAP) Analytical Database** <a name=\"subinput1\"></a>  \n",
    "These analyses utilize the GAP Analytic database developed by Linda Schueck, Anne Davidson, and Leah Dunn at Boise State University. Information about access to a given instance of this database is pending. The database is described here: https://www.sciencebase.gov/catalog/item/5b736251e4b0f5d5787c61df.\n",
    "\n",
    "Additionally, the code utilizes two files for processing range and habitat map data for each individual species - one available as a local file generated using a [Python notebook](https://github.com/mjrubino/Range-vs-Habitat/blob/master/Range-vs-Habitat.ipynb) and the other through the ScienceBase API.\n",
    "* **SpeciesRangevsHabitat.csv**  \n",
    "This file contains the areal extent of range as well as habitat maps created by the USGS GAP project for each species. It should be generated using a [Python notebook](https://github.com/mjrubino/Range-vs-Habitat/blob/master/Range-vs-Habitat.ipynb) and accessible locally.\n",
    "\n",
    "\n",
    "* **IUCN_Gap.csv**  \n",
    "This file is a list of all GAP modeled taxa, their scientific and common names and six-letter species codes and various conservation status information from IUCN including IUCN category. It is used to determine species vulnerability and as the species list source for programmitic looping. It is available as an attached file on ScienceBase here: https://www.sciencebase.gov/catalog/item/527d0a83e4b0850ea0518326.\n",
    "\n",
    "## Outputs <a name=\"outputs\"></a>\n",
    "Charts visualizing the percent habitat in protected areas of CONUS under [four PAD-US protection status levels](https://www.usgs.gov/core-science-systems/science-analytics-and-synthesis/gap/science/pad-us-data-overview?qt-science_center_objects=0#qt-science_center_objects):  \n",
    "<ul>\n",
    "<ul>\n",
    "    <li>Status 1: Biodiversity protection - natural disturbance permitted</li>\n",
    "    <li>Status 2: Biodiversity protection - natural disturbance suppressed</li>\n",
    "    <li>Status 3: Multiple use - extraction permitted</li>\n",
    "    <li>Status 4: No known mandate for protection</li>\n",
    "</ul>\n",
    "</ul>\n",
    "\n",
    "* [Habitat Restricted Species Protection Amounts by GAP Status:](#boxplot82)\n",
    "A boxplot illustrating the percent habitat protection by GAP Status for all species considered habitat restricted - that is, species in the lowest 5th percentile of proportion of habitat area within their range extent.  \n",
    "\n",
    "* [IUCN Conservation Concern Species Protection Amounts by GAP Status:](#boxplot19)\n",
    "As above but including only species who are considered to be of conservation concern based on their [IUCN category](https://www.iucnredlist.org/) - DD: data deficient, VU: vulnerable, NT: near threatened, EN: endangered, or CR: critically endangered.  \n",
    "\n",
    "\n",
    "## Constraints <a name=\"constraints\"></a>\n",
    "Range and habitat mapping constraints. See user constraints section on the USGS ScienceBase [GAP Species Habitat Maps](https://www.sciencebase.gov/catalog/item/527d0a83e4b0850ea0518326) page\n",
    "\n",
    "## Dependencies <a name=\"dependencies\"></a>\n",
    "Code execution and output visualization dependencies\n",
    "\n",
    "* **Code Language** <a name=\"codelanguage\"></a>  \n",
    "This code is written in Python 3.x. Earlier versions may be compatible given slight alterations in syntax and package components.\n",
    "  * **Python package requirements** <a name=\"packagerequirements\"></a>  \n",
    "  The required packages for proper code execution inlclude:\n",
    "    - Pandas version 0.2x or above\n",
    "    - numpy version 1.14.x or above\n",
    "    - re - regular expression package in Python\n",
    "    - matplotlib (figures library) version 2.2.x or above\n",
    "    - seaborn (statistical data visualization package) version 0.8 or above\n",
    "    - sciencebasepy - USGS written Python package for interacting with the USGS ScienceBase API\n",
    "    - pyodbc (for database connectivity) version 4.0 or above    \n",
    "\n",
    "\n",
    "## Tests <a name=\"tests\"></a>\n",
    "\n",
    "\n",
    "## Provenance <a name=\"provenance\"></a>"
   ]
  },
  {
   "cell_type": "markdown",
   "metadata": {},
   "source": [
    "## Code <a name=\"code\"></a>\n",
    "\n",
    "### Define functions for accessing GAP Analytic database <a name=\"code61\"></a>"
   ]
  },
  {
   "cell_type": "code",
   "execution_count": 21,
   "metadata": {},
   "outputs": [],
   "source": [
    "#############################################################################################\n",
    "########################## DB CONNECTION LOCAL FUNCTIONS ####################################\n",
    "#############################################################################################\n",
    "\n",
    "\n",
    "## --------------Cursor and Database Connections--------------------\n",
    "\n",
    "def ConnectToDB(connectionStr):\n",
    "    '''\n",
    "    (str) -> cursor, connection\n",
    "\n",
    "    Provides a cursor within and a connection to the database\n",
    "\n",
    "    Argument:\n",
    "    connectionStr -- The SQL Server compatible connection string\n",
    "        for connecting to a database\n",
    "    '''\n",
    "    try:\n",
    "        con = pyodbc.connect(connectionStr)\n",
    "    except:\n",
    "        connectionStr = connectionStr.replace('11.0', '10.0')\n",
    "        con = pyodbc.connect(connectionStr)\n",
    "\n",
    "    return con.cursor(), con\n",
    "\n",
    "## ----------------Database Connection----------------------\n",
    "\n",
    "def ConnectAnalyticDB():\n",
    "    '''\n",
    "    Returns a cursor and connection within the GAP analytic database.\n",
    "    '''\n",
    "    # Database connection parameters\n",
    "    dbConStr = \"\"\"DRIVER=SQL Server Native Client 11.0;\n",
    "                    SERVER=CHUCK\\SQL2014;\n",
    "                    UID=;\n",
    "                    PWD=;\n",
    "                    TRUSTED_CONNECTION=Yes;\n",
    "                    DATABASE=GAP_AnalyticDB;\"\"\"\n",
    "\n",
    "    return ConnectToDB(dbConStr)\n",
    "\n",
    "\n",
    "#############################################################################################\n",
    "#############################################################################################\n",
    "#############################################################################################"
   ]
  },
  {
   "cell_type": "markdown",
   "metadata": {},
   "source": [
    "### Import required Python packages"
   ]
  },
  {
   "cell_type": "code",
   "execution_count": 22,
   "metadata": {},
   "outputs": [],
   "source": [
    "import sciencebasepy, pyodbc, re\n",
    "import pandas as pd\n",
    "import numpy as np\n",
    "from datetime import datetime\n",
    "from io import StringIO\n",
    "import seaborn as sns\n",
    "import matplotlib.pyplot as plt\n",
    "\n",
    "pd.set_option('display.max_columns', 10)"
   ]
  },
  {
   "cell_type": "markdown",
   "metadata": {},
   "source": [
    "### Set local variables"
   ]
  },
  {
   "cell_type": "code",
   "execution_count": 23,
   "metadata": {},
   "outputs": [],
   "source": [
    "analysisDir = 'C:/Data/USGS Analyses/'\n",
    "workDir = analysisDir + 'Habitat-Restricted-Species/'\n",
    "\n",
    "# ****** Static Range vs Habitat CSV File **********\n",
    "#  Run SB-Range-vs-Habitat.py script to generate this file for a species list\n",
    "HabRangeCSV = workDir + 'SpeciesRangevsHabitat.csv'\n",
    "\n",
    "starttime = datetime.now()\n",
    "timestamp = starttime.strftime('%Y-%m-%d')\n"
   ]
  },
  {
   "cell_type": "markdown",
   "metadata": {},
   "source": [
    "### Connect to ScienceBase to get the IUCN CSV table<a name=\"code62\"></a>"
   ]
  },
  {
   "cell_type": "code",
   "execution_count": 24,
   "metadata": {},
   "outputs": [
    {
     "name": "stdout",
     "output_type": "stream",
     "text": [
      "--------------------------------------------------\n",
      "\n",
      "--> Connecting to ScienceBase to gather species IUCN criteria ...\n"
     ]
    }
   ],
   "source": [
    "'''\n",
    "    Connect to ScienceBase to pull down a species list with\n",
    "    IUCN conservation status information in it.\n",
    "    This uses the ScienceBase item for species habitat maps\n",
    "    and searches for a CSV file with species info in it.\n",
    "    The habitat map item has a unique id (527d0a83e4b0850ea0518326).\n",
    "    If this changes, the code will need to be re-written.\n",
    "\n",
    "'''\n",
    "print('-'*50)\n",
    "print('\\n--> Connecting to ScienceBase to gather species IUCN criteria ...')\n",
    "\n",
    "sb = sciencebasepy.SbSession()\n",
    "habmapItem = sb.get_item(\"527d0a83e4b0850ea0518326\")\n",
    "# Make a regular expression variable for the hab map csv file name pattern\n",
    "fnp = 'IUCN_Gap.+'\n",
    "for file in habmapItem[\"files\"]:\n",
    "    # Search for the file name pattern in the hab map item files dictionary\n",
    "    fnMatch = re.search(fnp, file['name'])\n",
    "    if fnMatch != None:\n",
    "        try:\n",
    "            dfGapIUCN = pd.read_csv(StringIO(sb.get(file[\"url\"])))\n",
    "            dfGapIUCN = dfGapIUCN.replace(np.nan, '', regex=True)\n",
    "        except:\n",
    "            print('!! Could not find a CSV file name match !!')\n"
   ]
  },
  {
   "cell_type": "markdown",
   "metadata": {},
   "source": [
    "#### Pull the IUCN data into a dataframe and calculate the lowest 5th percentile of species habitat in range proportion"
   ]
  },
  {
   "cell_type": "code",
   "execution_count": 25,
   "metadata": {},
   "outputs": [
    {
     "name": "stdout",
     "output_type": "stream",
     "text": [
      "\n",
      "--> Loading Habitat in Range CSV ...\n",
      "\n",
      "--> Getting species whose habitat in range is in lowest 5th percentile ...\n"
     ]
    },
    {
     "name": "stderr",
     "output_type": "stream",
     "text": [
      "C:\\ProgramData\\Anaconda3\\lib\\site-packages\\ipykernel_launcher.py:9: SettingWithCopyWarning: \n",
      "A value is trying to be set on a copy of a slice from a DataFrame.\n",
      "Try using .loc[row_indexer,col_indexer] = value instead\n",
      "\n",
      "See the caveats in the documentation: http://pandas.pydata.org/pandas-docs/stable/indexing.html#indexing-view-versus-copy\n",
      "  if __name__ == '__main__':\n"
     ]
    }
   ],
   "source": [
    "# Get the Range-Habitat csv file as a dataframe\n",
    "print('\\n--> Loading Habitat in Range CSV ...')\n",
    "dfHabRng = pd.read_csv(HabRangeCSV)\n",
    "\n",
    "# Pull out only a few necessary columns\n",
    "dfHabInRng = dfHabRng[['SpeciesCode','ScientificName','CommonName','AreaRange_km2','AreaHab_km2']]\n",
    "\n",
    "# Calculate the amount of habitat in range\n",
    "dfHabInRng['PropHabOfRange'] = dfHabInRng['AreaHab_km2'] / dfHabInRng['AreaRange_km2']\n",
    "\n",
    "# Calculate the lowest 5th percentile of proportions\n",
    "print('\\n--> Getting species whose habitat in range is in lowest 5th percentile ...')\n",
    "props = dfHabInRng['PropHabOfRange']\n",
    "low5 = np.percentile(props, 5, interpolation='lower')\n",
    "# Make a dataframe of the species < the lowest 5th percentile\n",
    "dflow5 = dfHabInRng[dfHabInRng['PropHabOfRange']<=low5]"
   ]
  },
  {
   "cell_type": "markdown",
   "metadata": {},
   "source": [
    "#### Combine with the IUCN dataframe to assemble info on protection status"
   ]
  },
  {
   "cell_type": "markdown",
   "metadata": {},
   "source": [
    "NOTE: two species Monk Parakeet - Myiopsitta monachus and Cane Toad - Rhinella marinus are exotics which should be removed from the analyses"
   ]
  },
  {
   "cell_type": "code",
   "execution_count": 28,
   "metadata": {},
   "outputs": [
    {
     "name": "stdout",
     "output_type": "stream",
     "text": [
      "\n",
      "--> Removing exotic species from the list ...\n"
     ]
    }
   ],
   "source": [
    "# Merge the lowest 5th percentile species df with the GAP IUCN df\n",
    "# First, merge them to match full species only\n",
    "# NOTE: IUCN does not assess subspecies therfore matches are only on full species\n",
    "dfSppOnly_IUCN = pd.merge(left=dflow5, right=dfGapIUCN, how='inner',\n",
    "                      left_on='SpeciesCode', right_on='gapSppCode')\n",
    "# Now merge them keeping all records for species in the lowest 5th percentile\n",
    "# that is, including all the subspecies from the GAP list\n",
    "dfAllLow5_IUCN = pd.merge(left=dflow5, right=dfGapIUCN, how='left',\n",
    "                      left_on='SpeciesCode', right_on='gapSppCode')\n",
    "'''\n",
    "    Manual removal of species from the list\n",
    "\n",
    "'''\n",
    "print('\\n--> Removing exotic species from the list ...')\n",
    "# First, set the index to SpeciesCode to make dropping rows easier\n",
    "dfAllLow5_IUCN.set_index('SpeciesCode', inplace=True)\n",
    "# Two of these species are exotics. Remove them from the analysis\n",
    "# Drop the Monk Parakeet - Myiopsitta monachus and Cane Toad - Rhinella marinus\n",
    "dfAllLow5_IUCN.drop(['bMOPAx','aCANEx'], inplace=True)\n",
    "\n",
    "# Two other species have problems with their RATs. File management issues from\n",
    "# the early days of model processing have persisted. Until these species' outputs\n",
    "# are fixed, they will need to be removed manually\n",
    "# They are Cliff Swallow and North American Racer (bCLSWx & rNARAx)\n",
    "dfAllLow5_IUCN.drop(['bCLSWx','rNARAx'], inplace=True)\n",
    "\n",
    "# Pull out the species codes which are the row index\n",
    "hrSpp = dfAllLow5_IUCN.index\n",
    "\n",
    "# Select species that are of conservation concern based on IUCN categories\n",
    "cclst = ['VU', 'EN', 'NT', 'DD', 'CR', 'EW']\n",
    "select={'iucnCategory':cclst}\n",
    "dfCC = dfAllLow5_IUCN[dfAllLow5_IUCN[list(select)].isin(select).all(axis=1)]\n",
    "\n",
    "# Make a dataframe of subspecies using the species code\n",
    "ss = np.where(hrSpp.str[5:]!='x')\n",
    "dfss = dfAllLow5_IUCN.iloc[ss]"
   ]
  },
  {
   "cell_type": "markdown",
   "metadata": {},
   "source": [
    "### Connect to the GAP Analytic database to generate protection status amounts<a name=\"code63\"></a>"
   ]
  },
  {
   "cell_type": "code",
   "execution_count": 29,
   "metadata": {},
   "outputs": [
    {
     "name": "stdout",
     "output_type": "stream",
     "text": [
      "++++++++++++++++++++++++++++++++++++++++++++++++++\n",
      "\n",
      " Querying the Analytical DB to Calculate Species' Protection Percentages ....\n"
     ]
    }
   ],
   "source": [
    "'''\n",
    "\n",
    "    Get the habitat protection percentages for each species using the\n",
    "    GAP Analytic database and the species list gathered above.\n",
    "\n",
    "\n",
    "'''\n",
    "\n",
    "sppStr = \"\"\n",
    "\n",
    "for spp in hrSpp:\n",
    "    \n",
    "    # Build the species list that will be passed to the SQL\n",
    "    if spp != hrSpp[-1]:\n",
    "        sppStr = sppStr + \"tblTaxa.strUC = '\" + spp + \"' OR \"\n",
    "    else:\n",
    "        sppStr = sppStr + \"tblTaxa.strUC = '\" + spp + \"'\"\n",
    "\n",
    "# Build an SQL statement that uses the Boundary, PAD-US,\n",
    "# and Taxa tables to return cell counts for each PAD status\n",
    "# for each species/subspecies in the passed list\n",
    "#\n",
    "print (\"+\"*50)\n",
    "print (\"\\n Querying the Analytical DB to Calculate Species' Protection Percentages ....\")\n",
    "\n",
    "\n",
    "sql = \"\"\"WITH \n",
    "boundary AS \n",
    "\t(SELECT padus1_4.gap_sts, lu_boundary.value\n",
    "\tFROM   padus1_4\n",
    "\tINNER JOIN lu_boundary ON padus1_4.revoid = lu_boundary.padus1_4\n",
    "\t),\n",
    "\n",
    "species AS\n",
    "\t(SELECT\tlu_boundary_species.boundary, \n",
    "\t\ttblTaxa.strUC, \n",
    "\t\ttblTaxa.strScientificName, \n",
    "\t\ttblTaxa.strCommonName, \n",
    "\t\tlu_boundary_species.count\n",
    "\tFROM\tlu_boundary_species\n",
    "\tINNER JOIN tblTaxa ON lu_boundary_species.species_cd = tblTaxa.strUC\n",
    "\tWHERE {0}\n",
    "\t)\n",
    "\n",
    "SELECT\tspecies.strUC as SppCode, \n",
    "\tspecies.strCommonName as ComName, \n",
    "\tspecies.strScientificName as SciName,  \n",
    "\tboundary.gap_sts as PADStatus, \n",
    "   sum(species.count) * 0.0009 as km2  \n",
    "FROM\tboundary\n",
    "INNER JOIN species ON boundary.value = species.boundary \n",
    "WHERE boundary.gap_sts < 4\n",
    "GROUP BY strUC, strScientificName, strCommonName, gap_sts\n",
    "ORDER By strUC, gap_sts\"\"\"\n",
    "\n",
    "## Connect to the Analytic Database\n",
    "cur, conn = ConnectAnalyticDB()\n",
    "strSQL = sql.format(sppStr)\n",
    "dfSelect = pd.read_sql(strSQL, conn)"
   ]
  },
  {
   "cell_type": "markdown",
   "metadata": {},
   "source": [
    "### Pull together species protection by GAP status data and maniuplate dataframes for plotting"
   ]
  },
  {
   "cell_type": "code",
   "execution_count": 30,
   "metadata": {},
   "outputs": [
    {
     "name": "stderr",
     "output_type": "stream",
     "text": [
      "C:\\ProgramData\\Anaconda3\\lib\\site-packages\\ipykernel_launcher.py:19: SettingWithCopyWarning: \n",
      "A value is trying to be set on a copy of a slice from a DataFrame.\n",
      "Try using .loc[row_indexer,col_indexer] = value instead\n",
      "\n",
      "See the caveats in the documentation: http://pandas.pydata.org/pandas-docs/stable/indexing.html#indexing-view-versus-copy\n"
     ]
    }
   ],
   "source": [
    "# Make a series that is the area sum (status 1-3 only) for each spp code\n",
    "sAreaSum = dfSelect.groupby(['SppCode'])['km2'].sum()\n",
    "# Make it a dataframe\n",
    "dfSum = pd.DataFrame(sAreaSum)\n",
    "# Round these numbers to 3 decimals to prevent strange math latter\n",
    "dfSum = dfSum.round(3)\n",
    "# Rename PADCount column to PADCntSum and reset the index\n",
    "dfSum.rename(columns={'km2':'AreaSum1-3'}, inplace=True)\n",
    "dfSum = dfSum.reset_index()\n",
    "\n",
    "# Merge this dataframe with the dfHabInRng dataframe made from the CSV\n",
    "# file compiled for range and habitat areas in order to get the total\n",
    "# habitat amount for each species. This will be used to calculate the \n",
    "# appropriate amount of habitat on GAP status 4 lands - that is, all\n",
    "# the habitat that IS NOT ON GAP status 1, 2, or 3 lands\n",
    "# First, pull out only the necessary columns from the dfHabInRng dataframe\n",
    "dfHabTotal = dfHabInRng[['SpeciesCode','CommonName','ScientificName', 'AreaHab_km2']]\n",
    "# Round the total habitat area numbers to 3 decimals for latter math\n",
    "dfHabTotal['AreaHab_km2'] = dfHabTotal['AreaHab_km2'].round(3)\n",
    "dfMerge1 = pd.merge(left=dfSum,right=dfHabTotal,how='left',\n",
    "                   left_on='SppCode',right_on='SpeciesCode')\n",
    "\n",
    "# Drop the extra species code column, add a status column which will be\n",
    "# all status 4, and calculate the area of status 4 habitat\n",
    "dfMerge1.drop('SpeciesCode', axis=1, inplace=True)\n",
    "dfMerge1['PADStatus'] = '4'\n",
    "dfMerge1['km2'] = dfMerge1['AreaHab_km2'] - dfMerge1['AreaSum1-3']\n",
    "# Now rearrange and rename some columns to prepare for appending with SQL dataframe\n",
    "dfMerge1.rename(columns={'CommonName':'ComName', 'ScientificName':'SciName'},inplace=True)\n",
    "dfAppend = dfMerge1.drop(['AreaHab_km2','AreaSum1-3'], axis=1)\n",
    "# Append with the SQL CSV dataframe dfSelect then calculate a total habitat area in km2\n",
    "dfHabStatus = dfSelect.append(dfAppend, sort=False, ignore_index=True)\n",
    "dfHabStatus['Total_km2'] = dfHabStatus['km2'].groupby(dfHabStatus['SppCode']).transform('sum')\n",
    "\n",
    "# Calculate the percentage each status is relative\n",
    "# to the total number of cells for the species\n",
    "dfHabStatus['PADPercent'] = (dfHabStatus['km2']/dfHabStatus['Total_km2'])*100\n",
    "# Pivot the dataframe on PAD status to get them into columns\n",
    "dfPivot = dfHabStatus.pivot_table(values='PADPercent',\n",
    "                           index=['SppCode','ComName','SciName'],\n",
    "                           columns=['PADStatus'])\n",
    "# Rename the PAD status columns\n",
    "dfPivot.rename(columns={'1':'Status 1','2':'Status 2',\n",
    "                        '3':'Status 3','4':'Status 4'}, inplace=True)\n",
    "\n",
    "# Calculate the percentage  status 1 and 2 combined\n",
    "dfPivot['Status 1 & 2'] = dfPivot['Status 1'] + dfPivot['Status 2']\n",
    "# Reset the index to a new dataframe\n",
    "dfSppPAD = dfPivot.reset_index()\n",
    "# Reorder columns\n",
    "dfSppPAD = dfSppPAD[['SppCode','SciName','ComName',\n",
    "                   'Status 1','Status 2','Status 1 & 2',\n",
    "                   'Status 3','Status 4']]\n",
    "# Make another dataframe of PAD status percentages just for the 19 species\n",
    "# whose IUCN category attributes them as species of conservation concern\n",
    "dfCCStatus = pd.merge(left=dfCC, left_on='SpeciesCode',\n",
    "                      right=dfSppPAD, right_on='SppCode',\n",
    "                      how='inner',left_index=True,right_index=False)\n",
    "dfCCStatus = dfCCStatus[['SppCode','SciName','ComName',\n",
    "                   'Status 1','Status 2','Status 1 & 2',\n",
    "                   'Status 3','Status 4']]\n"
   ]
  },
  {
   "cell_type": "markdown",
   "metadata": {},
   "source": [
    "#### Set various plotting variables"
   ]
  },
  {
   "cell_type": "code",
   "execution_count": 31,
   "metadata": {},
   "outputs": [
    {
     "name": "stdout",
     "output_type": "stream",
     "text": [
      "\n",
      "--> Plotting species habitat protection percentage by GAP status ...\n"
     ]
    },
    {
     "data": {
      "image/png": "[encoded data removed]",
      "text/plain": [
       "<Figure size 648x576 with 1 Axes>"
      ]
     },
     "metadata": {},
     "output_type": "display_data"
    }
   ],
   "source": [
    "'''\n",
    "\n",
    "    Start manipulating the dataframe and\n",
    "    plotting boxplots using the Seaborn package\n",
    "\n",
    "'''\n",
    "print('\\n--> Plotting species habitat protection percentage by GAP status ...')\n",
    "dfmelt3 = dfSppPAD.melt(id_vars = 'SppCode',\n",
    "                  value_vars = ['Status 1 & 2',\n",
    "                                'Status 3','Status 4'],\n",
    "                  var_name = 'GAP Protection Status',\n",
    "                  value_name = 'Percent Habitat Protected')\n",
    "# A version WITHOUT combined Status 1 & 2 percentages\n",
    "dfmelt4 = dfCCStatus.melt(id_vars = 'SppCode',\n",
    "                  value_vars = ['Status 1','Status 2',\n",
    "                                'Status 3','Status 4'],\n",
    "                  var_name = 'GAP Protection Status',\n",
    "                  value_name = 'Percent Habitat Protected')\n",
    "\n",
    "\n",
    "fig1, ax1 = plt.subplots(figsize=(9,8))\n",
    "# Make a color palette for each GAP status category\n",
    "cp = {'Status 1':'#66cc00','Status 2':'#007b0c',\n",
    "      'Status 1 & 2':'#4b5e26',\n",
    "      'Status 3':'#aab256','Status 4':'#B5c6c9'}\n",
    "# Subset the color palette for only Status 1&2, 3, and 4\n",
    "cp3 = {k:cp[k] for k in ('Status 1 & 2','Status 3','Status 4') if k in cp}\n",
    "# Subset the color palette for all statuses EXCEPT 1&2\n",
    "cp4 = {k:cp[k] for k in ('Status 1','Status 2','Status 3','Status 4') if k in cp}"
   ]
  },
  {
   "cell_type": "markdown",
   "metadata": {},
   "source": [
    "### Create a boxplot of percent habitat area by protection status for all habitat restricted species <a name=\"boxplot82\"></a>"
   ]
  },
  {
   "cell_type": "code",
   "execution_count": 32,
   "metadata": {},
   "outputs": [
    {
     "data": {
      "text/plain": [
       "Text(0.5,1,'Habitat Protection by GAP Status for 82 Habitat Restricted Species')"
      ]
     },
     "execution_count": 32,
     "metadata": {},
     "output_type": "execute_result"
    }
   ],
   "source": [
    "# Plot percent habitat protected by GAP status for ALL species in the lowest 5th percentile\n",
    "a1 = sns.boxplot(data = dfmelt3,\n",
    "                x = 'GAP Protection Status',\n",
    "                y = 'Percent Habitat Protected',\n",
    "                width=0.35,\n",
    "                palette=cp3,\n",
    "                ax=ax1)\n",
    "a1.set_title('Habitat Protection by GAP Status for 82 Habitat Restricted Species', fontsize=12)"
   ]
  },
  {
   "cell_type": "code",
   "execution_count": 34,
   "metadata": {},
   "outputs": [
    {
     "data": {
      "image/png": "[encoded data removed]",
      "text/plain": [
       "<Figure size 648x576 with 1 Axes>"
      ]
     },
     "execution_count": 34,
     "metadata": {},
     "output_type": "execute_result"
    }
   ],
   "source": [
    "fig1"
   ]
  },
  {
   "cell_type": "markdown",
   "metadata": {},
   "source": [
    "### Create a boxplot of percent habitat area by protection status for IUCN species of concern <a name=\"boxplot19\"></a>"
   ]
  },
  {
   "cell_type": "code",
   "execution_count": 35,
   "metadata": {},
   "outputs": [
    {
     "data": {
      "text/plain": [
       "Text(0.5,1,'Habitat Protection by GAP Status for 19 Habitat Restricted Species of Conservation Concern')"
      ]
     },
     "execution_count": 35,
     "metadata": {},
     "output_type": "execute_result"
    },
    {
     "data": {
      "image/png": "[encoded data removed]",
      "text/plain": [
       "<Figure size 648x576 with 1 Axes>"
      ]
     },
     "metadata": {},
     "output_type": "display_data"
    }
   ],
   "source": [
    "dfmelt4 = dfSppPAD.melt(id_vars = 'SppCode',\n",
    "                  value_vars = ['Status 1','Status 2',\n",
    "                                'Status 3','Status 4'],\n",
    "                  var_name = 'GAP Protection Status',\n",
    "                  value_name = 'Percent Habitat Protected')\n",
    "\n",
    "# Plot protection by status ONLY for species of conservation concern from IUCN\n",
    "fig2, ax2 = plt.subplots(figsize=(9,8))\n",
    "a2 = sns.boxplot(data = dfmelt4,\n",
    "                x = 'GAP Protection Status',\n",
    "                y = 'Percent Habitat Protected',\n",
    "                width=0.35,\n",
    "                palette=cp4,\n",
    "                ax=ax2)\n",
    "a2.set_title('Habitat Protection by GAP Status for 19 Habitat Restricted Species of Conservation Concern', fontsize=12)\n"
   ]
  },
  {
   "cell_type": "code",
   "execution_count": 36,
   "metadata": {},
   "outputs": [
    {
     "name": "stdout",
     "output_type": "stream",
     "text": [
      "+++++++++++++++++++++++++++++++++++\n",
      "Processing time: 0:20:18.341120\n",
      "+++++++++++++++++++++++++++++++++++\n"
     ]
    }
   ],
   "source": [
    "endtime = datetime.now()\n",
    "delta = endtime - starttime\n",
    "print(\"+\"*35)\n",
    "print(\"Processing time: \" + str(delta))\n",
    "print(\"+\"*35)"
   ]
  },
  {
   "cell_type": "markdown",
   "metadata": {},
   "source": [
    "## Citations <a name=\"citations\"></a>\n",
    "\n",
    "Beresford AE, GM Buchanan, PF Donald, SHM Butchart, LDC Fishpool, et al. (2011) Poor overlap between the distribution of protected areas and globally threatened birds in Africa. Animal Conservation 14: 99–107. http://doi.wiley.com/10.1111/j.1469-1795.2010.00398.x\n",
    "\n",
    "Freckleton, RP, D Noble, and TJ Webb. (2006) Distributions of habitat suitability and the abundance-occupancy relationship. The American Naturalist 167:260-275. https://doi.org/10.1086/498655\n",
    "\n",
    "Gaston KJ, and RA Fuller. (2009) The sizes of species' geographic ranges. Journal of Applied Ecology 46:1-9.  https://doi.org/10.1111/j.1365-2664.2008.01596.x\n",
    "\n",
    "Graham, CH, and RJ Hijmans. (2006) A comparison of methods for mapping species ranges and species richness. Global Ecology and Biogeography 15:578-587.  https://doi.org/10.1111/j.1466-8238.2006.00257.x\n",
    "\n",
    "Harris, G, and SL Pimm. (2008) Range size and extinction risk in forest birds. Conservation Biology, 22, 163-171. https://doi.org/10.1111/j.1523-1739.2007.00798.x\n",
    "\n",
    "Jetz, W, CH Sekercioglu, and JEM Watson. (2008) Ecological correlates and conservation implications of overestimating species geographic ranges. Conservation Biology, 22, 110-119. https://doi.org/10.1111/j.1523-1739.2007.00847.x\n",
    "\n",
    "McKerrow, AJ, NM Tarr, MJ Rubino, and SG Williams. (2018) Patterns of species richness hotspots and estimates of their protection are sensitive to spatial resolution. Diversity and Distributions 24:1461-1477, https://doi.org/10.1111/ddi.12779\n",
    "\n",
    "Rondinini, C, M Di Marco, F Chiozza, G Santulli, D Baisero, P Visconti, and L Boitani. (2011). Global habitat suitability models of terrestrial mammals. Philosophical Transaction of the Royal Society B: Biological Sciences, 366, 2633-2641. https://doi.org/10.1098/rstb.2011.0113"
   ]
  },
  {
   "cell_type": "code",
   "execution_count": null,
   "metadata": {},
   "outputs": [],
   "source": []
  }
 ],
 "metadata": {
  "kernelspec": {
   "display_name": "Python 3",
   "language": "python",
   "name": "python3"
  },
  "language_info": {
   "codemirror_mode": {
    "name": "ipython",
    "version": 3
   },
   "file_extension": ".py",
   "mimetype": "text/x-python",
   "name": "python",
   "nbconvert_exporter": "python",
   "pygments_lexer": "ipython3",
   "version": "3.6.5"
  }
 },
 "nbformat": 4,
 "nbformat_minor": 2
}
